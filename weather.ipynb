{
 "cells": [
  {
   "cell_type": "markdown",
   "metadata": {},
   "source": [
    "## Computer Infrastructure Weekly Tasks Report\n",
    "---\n",
    "\n",
    "by Atacan Buyuktalas"
   ]
  },
  {
   "cell_type": "markdown",
   "metadata": {},
   "source": [
    "## Week 1 - Create a Directory Structure\n",
    "\n",
    "### Task:\n",
    "\n",
    "- Using command line, create a directory named `data` at the root of my repository.\n",
    "- Inside `data`, create two subdirectories named `timestamps` and ` weather`\n",
    "---\n",
    "\n",
    "### Steps taken:\n",
    "\n",
    "- started the terminal via in GitHub Codespace. I was at main directory as '/workspaces/computer_infrastructure_assessment'.\n",
    "- I proceeded with `mkdir data/` to create the directory. (`mkdir` is a command used for creating a folder/directory)\n",
    "- Then, I changed my directory in order to create other two subdirectories using `cd data/`\n",
    "- Lastly, I created two subdirectories using `mkdir timestamps/` and `mkdir weather/` \n",
    "\n",
    "\n",
    "Chronology of the commands;\n",
    "\n",
    "``` bash\n",
    "mkdir data/\n",
    "cd data/\n",
    "mkdir timestamps/\n",
    "mkdir weather/\n",
    "```"
   ]
  },
  {
   "cell_type": "markdown",
   "metadata": {},
   "source": [
    "## Week 2 - Timestamps\n",
    "\n",
    "### Task:\n",
    "\n",
    "- Use `date` command to output the current date and time for ten times. \n",
    "- Collect these timestamps in the file named `now.txt` in `data/timestamps/` directory.\n",
    "\n",
    "---\n",
    "\n",
    "### Steps taken:\n",
    "\n",
    "- I navigated myself to the target directory using change directory command `cd data/timestamps`\n",
    "- I did sanity check first by promting the date and time info using `date`, then proceeded with `date >> now.txt` \n",
    "- I directed the output into the file called `now.txt` insted of displaying on the terminal by using `>>`\n",
    "- since `now.txt` was not exist in the directory, it was created in order to store the output. \n",
    "- then I executed the same command 10 times. Since, the file was created during the initial execution, rest were appended (`>>`) in the file. \n",
    "\n",
    "Chronology of the commands;\n",
    "``` bash\n",
    "cd data/timestamps\n",
    "date\n",
    "date >> now.txt\n",
    "...\n",
    "date >> now.txt\n",
    "```"
   ]
  },
  {
   "cell_type": "markdown",
   "metadata": {},
   "source": [
    "## Week 3 - Formatting Timestamps\n",
    "\n",
    "### Task:\n",
    "\n",
    "- Use `date` command to output the current date and time for ten times using 'YYYYmmdd_HHMMSS' format. \n",
    "- Append the formatted output to a file name `formatted.txt`\n",
    "\n",
    "---\n",
    "\n",
    "### Steps taken:\n",
    "\n",
    "- First, checked my command to see if the output was in the right format, `date +\"%Y%m%d_%H%M%S\"`\n",
    "- once I was sure about the output accuracy, I proceeded with `date +\"%Y%m%d_%H%M%S\" >> formatted.txt`\n",
    "- then I executed the same command 10 times. \n",
    "- Lastly, I check the file using `more formatted.txt` to ensure outputs were stored in the file.\n",
    "\n",
    "Chronology of the commands;\n",
    "\n",
    "```bash\n",
    "date +\"%Y%m%d_%H%M%S\"\n",
    "date +\"%Y%m%d_%H%M%S\" >> formatted.txt\n",
    "...\n",
    "date +\"%Y%m%d_%H%M%S\" >> formatted.txt\n",
    "more formatted.txt\n",
    "```"
   ]
  },
  {
   "cell_type": "markdown",
   "metadata": {},
   "source": [
    "## Week 4 - Create Timestamped Files\n",
    "\n",
    "### Task:\n",
    "\n",
    "- Create a `.txt` file named the current timestamp using `touch` command \n",
    "\n",
    "---\n",
    "\n",
    "### Steps taken:\n",
    "\n",
    "- I navigated to the subdirectory `cd data/timestamps` \n",
    "- Executed the command `` touch `date +\"%Y%m%d_%H%M%S\"`.txt ``\n",
    "- `touch` creates the file, `date +\"%Y%m%d_%H%M%S\"` outputs the curent date&time in specified format. \n",
    "- putting `date +\"%Y%m%d_%H%M%S\"` into `` ` `` backticks allows us to execute the date command in them. \n",
    "- hence, current date&time becomes the file name\n",
    "\n",
    "Chronology of the commands;\n",
    "``` bash\n",
    "cd data/timestamps\n",
    "touch `date +\"%Y%m%d_%H%M%S\"`.txt\n",
    "```"
   ]
  },
  {
   "cell_type": "markdown",
   "metadata": {},
   "source": [
    "## Week 5 - Download Today's Weather Data\n",
    "\n",
    "### Task:\n",
    "\n",
    "- Download the weather data from [Met Eireann](https://prodapi.metweb.ie/observations/athenry/today) using `wget` along with the option `-0 <filename>`,\n",
    "- Save the file as `weather.json` in to the `data/weather` directory\n",
    "\n",
    "---\n",
    "\n",
    "### Steps taken:\n",
    "\n",
    "- change my directory to `data/weather/` \n",
    "- executed the command `wget -O weather.json https://prodapi.metweb.ie/observations/athenry/today` \n",
    "- `-O` options is allows us to save the `wget` output as a file\n",
    "\n",
    "Chronology of the commands;\n",
    "```bash\n",
    "cd data/weather/\n",
    "wget -O weather.json https://prodapi.metweb.ie/observations/athenry/today\n",
    "```"
   ]
  },
  {
   "cell_type": "markdown",
   "metadata": {},
   "source": [
    "## Week 6 - Timestamp the Data\n",
    "\n",
    "### Task:\n",
    "\n",
    "- Modify the command from Week 5 Task and save the weather data as `YYYYmmdd_HHMMSS.json` format\n",
    "\n",
    "---\n",
    "\n",
    "### Steps taken:\n",
    "\n",
    "- change the directory to `data/weather/`\n",
    "- execute the command as `` wget -O `date +\"%Y%m%d_%H%M%S.json\"`https://prodapi.metweb.ie/observations/athenry/today ``\n",
    "- `` ` `` allows us to execute `date` command in `wget` command\n",
    "\n",
    "Chronology of the commands;\n",
    "```bash\n",
    "cd data/weather/\n",
    "wget -O `date +\"%Y%m%d_%H%M%S.json\"`https://prodapi.metweb.ie/observations/athenry/today\n",
    "```"
   ]
  },
  {
   "cell_type": "markdown",
   "metadata": {},
   "source": [
    "## Week 7 - Write the Script\n",
    "\n",
    "### Task:\n",
    "\n",
    "- Write a bash script called `weather.sh` in the root directory.\n",
    "- The script should automate the process from Week 6 Task\n",
    "- Saving the weather data to `data/weather/` \n",
    "- Make the script executable and test it by running it.\n",
    "\n",
    "---\n",
    "\n",
    "### Steps taken:\n",
    "\n",
    "- started the creating the script file with `touch weather.sh`\n",
    "- In `weather.sh` file, started with shebang command `#! bin/bash/` where we tell the system how to execute the command in the script.\n",
    "- then added the command which is `` wget -O `date +\"%Y%m%d_%H%M%S.json\"`https://prodapi.metweb.ie/observations/athenry/today ``\n",
    "- get back to the terminal, and did the sanity check with `ls -al` to see the script, its type and the file permissions.\n",
    "- the script's permission was set to `-rw` which is not executable\n",
    "- change the permission using `chmod u+x ./weather.sh` \n",
    "- did the sanity check again, everything looked great and executed it with `./weather.sh`\n",
    "\n",
    "Chronology of the commands;\n",
    "```bash\n",
    "touch weather.sh\n",
    "# wrote the script in the sh file\n",
    "ls -al\n",
    "chmod u+x weather.sh\n",
    "./weather.sh\n",
    "```"
   ]
  },
  {
   "cell_type": "markdown",
   "metadata": {},
   "source": [
    "## Week 9 -  Weather Analysis\n",
    "---"
   ]
  },
  {
   "cell_type": "code",
   "execution_count": 30,
   "metadata": {},
   "outputs": [],
   "source": [
    "import pandas as pd\n",
    "import matplotlib.pyplot as plt\n",
    "import seaborn as sns\n",
    "\n",
    "# Load JSON data from file\n",
    "file_path = 'data/weather/20241218_102544.json'  # Update with the actual path to the JSON file\n",
    "df = pd.read_json(file_path)"
   ]
  },
  {
   "cell_type": "code",
   "execution_count": 31,
   "metadata": {},
   "outputs": [],
   "source": [
    "# Clean and prepare the data\n",
    "df['weatherDescription'] = df['weatherDescription'].str.strip()  # Remove extra spaces"
   ]
  },
  {
   "cell_type": "code",
   "execution_count": 32,
   "metadata": {},
   "outputs": [
    {
     "name": "stdout",
     "output_type": "stream",
     "text": [
      "<class 'pandas.core.frame.DataFrame'>\n",
      "RangeIndex: 11 entries, 0 to 10\n",
      "Data columns (total 15 columns):\n",
      " #   Column                 Non-Null Count  Dtype         \n",
      "---  ------                 --------------  -----         \n",
      " 0   name                   11 non-null     object        \n",
      " 1   temperature            11 non-null     int64         \n",
      " 2   symbol                 11 non-null     object        \n",
      " 3   weatherDescription     11 non-null     object        \n",
      " 4   text                   11 non-null     object        \n",
      " 5   windSpeed              11 non-null     int64         \n",
      " 6   windGust               11 non-null     object        \n",
      " 7   cardinalWindDirection  11 non-null     object        \n",
      " 8   windDirection          11 non-null     int64         \n",
      " 9   humidity               11 non-null     int64         \n",
      " 10  rainfall               11 non-null     float64       \n",
      " 11  pressure               11 non-null     int64         \n",
      " 12  dayName                11 non-null     object        \n",
      " 13  date                   11 non-null     datetime64[ns]\n",
      " 14  reportTime             11 non-null     object        \n",
      "dtypes: datetime64[ns](1), float64(1), int64(5), object(8)\n",
      "memory usage: 1.4+ KB\n",
      "None\n"
     ]
    }
   ],
   "source": [
    "# Display basic information and the first few rows of the data\n",
    "print(df.info())"
   ]
  },
  {
   "cell_type": "code",
   "execution_count": 33,
   "metadata": {},
   "outputs": [],
   "source": [
    "# Count the occurrences of weather descriptions\n",
    "weather_counts = df['weatherDescription'].value_counts()"
   ]
  },
  {
   "cell_type": "code",
   "execution_count": 34,
   "metadata": {},
   "outputs": [
    {
     "name": "stdout",
     "output_type": "stream",
     "text": [
      "Top Weather Descriptions:\n",
      " weatherDescription\n",
      "Rain showers          4\n",
      "Cloudy                3\n",
      "Rain                  1\n",
      "Light rain            1\n",
      "Light rain showers    1\n",
      "Fair                  1\n",
      "Name: count, dtype: int64\n"
     ]
    }
   ],
   "source": [
    "# Print the top weather descriptions\n",
    "print(\"Top Weather Descriptions:\\n\", weather_counts)"
   ]
  },
  {
   "cell_type": "code",
   "execution_count": 35,
   "metadata": {},
   "outputs": [
    {
     "data": {
      "image/png": "[encoded data removed]",
      "text/plain": [
       "<Figure size 1000x600 with 1 Axes>"
      ]
     },
     "metadata": {},
     "output_type": "display_data"
    }
   ],
   "source": [
    "# Plot the distribution of weather descriptions\n",
    "plt.figure(figsize=(10, 6))\n",
    "sns.barplot(x=weather_counts.values, y=weather_counts.index, hue=weather_counts.index, palette=\"viridis\", dodge=False, legend=False)\n",
    "plt.xlabel('Number of Occurrences')\n",
    "plt.ylabel('Weather Description')\n",
    "plt.title('Frequency of Weather Descriptions in Athenry')\n",
    "plt.show()"
   ]
  },
  {
   "cell_type": "markdown",
   "metadata": {},
   "source": [
    "### Observations from the Data\n",
    "\n",
    "Looking at the provided weather data, the weatherDescription column has the following entries:\n",
    "- 4x Rain showers \n",
    "- 1x Rain \n",
    "- 1x Light rain \n",
    "- 1x Light rain showers \n",
    "- 3x Cloudy \n",
    "- 1x Fair \n",
    "\n",
    "### Analysis\n",
    "1. Rain Showers Dominate — The most frequent weather condition is Rain showers, which occurs 4 out of 11 times (36.4%).\n",
    "2. Cloudy Weather is Common — Cloudy weather appears 3 times (27.3%), meaning that the sky is cloudy for a large part of the day.\n",
    "3. Rain Variations — There are multiple rain-related weather types, including Rain, Light Rain, and Light Rain Showers. If combined, rain-related weather types make up a large percentage of the total.\n",
    "4. Fair Weather is Rare — Only one instance of Fair weather is observed, meaning there was only one period where the sky was clear (08:00).\n",
    "\n",
    "### Insights\n",
    "- The weather on 18-12-2024 was mostly rainy (Rain Showers, Light Rain, and Rain together make up about 63.6% of the day).\n",
    "- There was a brief period of clear weather at 08:00 (Fair).\n",
    "- Cloudy conditions became dominant in the late morning, suggesting a potential shift in weather after rainfall."
   ]
  },
  {
   "cell_type": "markdown",
   "metadata": {},
   "source": [
    "---\n",
    "# END"
   ]
  }
 ],
 "metadata": {
  "kernelspec": {
   "display_name": "base",
   "language": "python",
   "name": "python3"
  },
  "language_info": {
   "codemirror_mode": {
    "name": "ipython",
    "version": 3
   },
   "file_extension": ".py",
   "mimetype": "text/x-python",
   "name": "python",
   "nbconvert_exporter": "python",
   "pygments_lexer": "ipython3",
   "version": "3.12.4"
  }
 },
 "nbformat": 4,
 "nbformat_minor": 2
}
