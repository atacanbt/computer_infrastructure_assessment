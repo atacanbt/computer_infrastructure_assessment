{
 "cells": [
  {
   "cell_type": "markdown",
   "metadata": {},
   "source": [
    "## Computer Infrastructure Weekly Tasks Report\n",
    "---\n",
    "\n",
    "by Atacan Buyuktalas"
   ]
  },
  {
   "cell_type": "markdown",
   "metadata": {},
   "source": [
    "## Week 1 - Create a Directory Structure\n",
    "\n",
    "### Task:\n",
    "\n",
    "- Using command line, create a directory named `data` at the root of my repository.\n",
    "- Inside `data`, create two subdirectories named `timestamps` and ` weather`\n",
    "---\n",
    "\n",
    "### Steps taken:\n",
    "\n",
    "- started the terminal via in GitHub Codespace. I was at main directory as '/workspaces/computer_infrastructure_assessment'.\n",
    "- I proceeded with `mkdir data/` to create the directory. (`mkdir` is a command used for creating a folder/directory)\n",
    "- Then, I changed my directory in order to create other two subdirectories using `cd data/`\n",
    "- Lastly, I created two subdirectories using `mkdir timestamps/` and `mkdir weather/` "
   ]
  },
  {
   "cell_type": "markdown",
   "metadata": {},
   "source": [
    "## Week 2 - Timestamps\n",
    "\n",
    "### Task:\n",
    "\n",
    "- Use `date` command to output the current date and time for ten times. \n",
    "- Collect these timestamps in the file named `now.txt` in `data/timestamps/` directory.\n",
    "\n",
    "---\n",
    "\n",
    "### Steps taken:\n",
    "\n",
    "- I navigated myself to the target directory using change directory command `cd data/timestamps`\n",
    "- I did sanity check first by promting the date and time info using `date`, then proceeded with `date >> now.txt` \n",
    "- I directed the output into the file called `now.txt` insted of displaying on the terminal by using `>>`\n",
    "- since `now.txt` was not exist in the directory, it was created in order to store the output. \n",
    "- then I executed the same command 10 times. Since, the file was created during the initial execution, rest were appended (`>>`) in the file. "
   ]
  },
  {
   "cell_type": "markdown",
   "metadata": {},
   "source": [
    "## Week 3 - Formatting Timestamps\n",
    "\n",
    "### Task:\n",
    "\n",
    "- Use `date` command to output the current date and time for ten times using 'YYYYmmdd_HHMMSS' format. \n",
    "- Append the formatted output to a file name `formatted.txt`\n",
    "\n",
    "---\n",
    "\n",
    "### Steps taken:\n",
    "\n",
    "- First, checked my command to see if the output was in the right format, `date +\"%Y%m%d_%H%M%S\"`\n",
    "- once I was sure about the output accuracy, I proceeded with `date +\"%Y%m%d_%H%M%S\" >> formatted.txt`\n",
    "- then I executed the same command 10 times. \n",
    "- Lastly, I check the file using `more formatted.txt` to ensure outputs were stored in the file."
   ]
  },
  {
   "cell_type": "markdown",
   "metadata": {},
   "source": [
    "## Week 4 - Create Timestamped Files\n",
    "\n",
    "### Task:\n",
    "\n",
    "- Create a `.txt` file named the current timestamp using `touch` command \n",
    "\n",
    "---\n",
    "\n",
    "### Steps taken:\n",
    "\n",
    "- I navigated to the subdirectory `cd data/timestamps` \n",
    "- Executed the command `` touch `date +\"%Y%m%d_%H%M%S\"`.txt ``\n",
    "- `touch` creates the file, `date +\"%Y%m%d_%H%M%S\"` outputs the curent date&time in specified format. \n",
    "- putting `date +\"%Y%m%d_%H%M%S\"` into `` ` `` backticks allows us to execute the date command in them. \n",
    "- hence, current date&time becomes the file name"
   ]
  },
  {
   "cell_type": "markdown",
   "metadata": {},
   "source": []
  }
 ],
 "metadata": {
  "language_info": {
   "name": "python"
  }
 },
 "nbformat": 4,
 "nbformat_minor": 2
}
